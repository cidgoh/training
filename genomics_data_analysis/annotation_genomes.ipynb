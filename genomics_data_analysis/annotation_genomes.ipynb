{
 "cells": [
  {
   "cell_type": "markdown",
   "id": "9198e9a5-e26c-4ccb-bc4e-9fac160f96e8",
   "metadata": {},
   "source": [
    "# Annotation of genomes\n",
    "\n",
    "## Introduction\n",
    "\n",
    "Once we have analysis ready genomes (verified quality and lack of contamination), we can do annotation. The main goal of annotation is to identify the genomic features that are present in the contigs.\n",
    "\n",
    "There are many available tools to find these relevant sequences, and they mostly use predictive algorithms (recognition of common sequences in the DNA) or alignment against a reference database. \n",
    "\n",
    "Two of the most commonly used tools are [BAKTA](https://github.com/oschwengers/bakta)  (https://doi.org/10.1099/mgen.0.000685) and the [NCBI Prokaryotic Genome Annotation Pipeline](https://github.com/ncbi/pgap) (https://doi.org/10.1093/nar/gkaa1105). \n",
    "\n",
    "Bakta produces a comprehensive annotation of Open Reading Frames (sequences that code for amino acids over a length threshold), different types of RNA (ncRNA, tRNA, rRNA), hypothetical proteins, genes and CRISPR arrays. \n",
    "\n",
    "Finally, we will do a quick phylogenetic analysis by measuring differences among the genomes and produce a phylogenetic tree with the results.\n",
    "\n",
    "### Preparation and required tools\n",
    "\n",
    "As in every tutorial, we make the pre-packaged tools of the HPC cluster available by running the script below"
   ]
  },
  {
   "cell_type": "code",
   "execution_count": null,
   "id": "eeaab644",
   "metadata": {
    "tags": [],
    "vscode": {
     "languageId": "shellscript"
    }
   },
   "outputs": [],
   "source": [
    "# source PATH to use module function\n",
    "source /cvmfs/soft.computecanada.ca/config/profile/bash.sh"
   ]
  },
  {
   "cell_type": "markdown",
   "id": "ab7b4637",
   "metadata": {
    "vscode": {
     "languageId": "shellscript"
    }
   },
   "source": [
    "The tools used in this tutorial are:\n",
    "\n",
    "- `bakta        v1.7.0`\n",
    "- `snippy       v4.6.0`\n",
    "- `gubbins      v3.2.1`\n",
    "- `FastTree     v2.1.11`\n",
    "\n",
    "Bakta uses a reference database that is to large for a tutorial **~(30GB)~**, so we are using a reduced database (~3.0 GB) that may produce slightly less reliable feature annotation. \n",
    "\n",
    "The database was downloaded and decompressed into our software folder using the command below\n",
    "\n",
    "```sh\n",
    "singularity exec -B /scratch,/project,/etc </PATH/TO/BAKTA/IMAGE/> bakta_db download \\\n",
    "--output </OUTPUT/DIR/> \\\n",
    "--type light\n",
    "```"
   ]
  },
  {
   "cell_type": "markdown",
   "id": "13029f3c",
   "metadata": {},
   "source": [
    "Finally, let's do a quick recap of the results we have produced and the software employed in the tutorials."
   ]
  },
  {
   "cell_type": "code",
   "execution_count": null,
   "id": "9e2d6c63",
   "metadata": {
    "tags": [],
    "vscode": {
     "languageId": "shellscript"
    }
   },
   "outputs": [],
   "source": [
    "echo -e \"This is how the project folder looks for now:\\n\"\n",
    "tree -dL 2 ~/tutorials\n",
    "\n",
    "echo -e \"\\nAnd remember the structure of the software directory:\\n\"\n",
    "tree -dL 2 /mnt/cidgoh-object-storage/seagull/jupyter-mdprieto/ "
   ]
  },
  {
   "cell_type": "markdown",
   "id": "aba8980b",
   "metadata": {
    "vscode": {
     "languageId": "shellscript"
    }
   },
   "source": [
    "## Annotation of draft genomes\n",
    "\n",
    "We are using **bakta** from a singularity image and must use a **reference database** already available. \n",
    "\n",
    "To avoid typing over and over again, we put these location inside \n",
    "[ENVIRONMENT VARIABLES](https://linuxize.com/post/how-to-set-and-list-environment-variables-in-linux/)."
   ]
  },
  {
   "cell_type": "code",
   "execution_count": null,
   "id": "235e8d53-d8cb-4289-8e41-c9f98d8e89bb",
   "metadata": {
    "tags": [],
    "vscode": {
     "languageId": "shellscript"
    }
   },
   "outputs": [],
   "source": [
    "BAKTA_IMG=\"/mnt/cidgoh-object-storage/images/bakta_1.7.sif\"\n",
    "BAKTA_DB=\"/mnt/cidgoh-object-storage/seagull/jupyter-mdprieto/baktadb-light\""
   ]
  },
  {
   "cell_type": "markdown",
   "id": "219b0807",
   "metadata": {},
   "source": [
    "Now, we execute the command `bakta` specifying a single draft genome. Annotation for the remaining ones is already provided (15 - 20 min per annotation).\n",
    "\n",
    "The line `-B /etc,/mnt` does something similar to `export SINGULARITY_BIND=\"/mnt,/etc\"`. It makes the specified drives/folder readable when executing commands from inside the container."
   ]
  },
  {
   "cell_type": "code",
   "execution_count": null,
   "id": "d0309dd4-fa2b-4a4d-af80-145bc45e48a7",
   "metadata": {
    "tags": [],
    "vscode": {
     "languageId": "shellscript"
    }
   },
   "outputs": [],
   "source": [
    "singularity exec -B /etc,/mnt \"$BAKTA_IMG\" bakta \\\n",
    "    --db $BAKTA_DB                                                                  `# path to bakta database` \\\n",
    "    ~/tutorials/results/contigs/ERR10479518_contigs.fa                              `# file to annotate`\\\n",
    "    --output ~/tutorials/results/annotation/                                        `# output directory` \\\n",
    "    --genus Pseudomonas                                                             `# specify genus of isolate` \\\n",
    "    --prefix \"ERR10479518\"                                                          `# prefix of sample name only for output`"
   ]
  },
  {
   "cell_type": "markdown",
   "id": "92b54117",
   "metadata": {},
   "source": [
    "Now, we bring the rest of the results from our precomputed analyses and explore the output of **bakta**. As the results are somehow heavy (700 Mb), it may take a few minutes.  "
   ]
  },
  {
   "cell_type": "code",
   "execution_count": null,
   "id": "7e18a038-2642-4aab-b5ca-0689d39e04f6",
   "metadata": {
    "tags": []
   },
   "outputs": [],
   "source": [
    "cp -r /mnt/cidgoh-object-storage/seagull/jupyter-mdprieto/precomputed_results/annotation/* \\\n",
    "      ~/tutorials/results/annotation/"
   ]
  },
  {
   "cell_type": "markdown",
   "id": "5473e4e7-ad88-4cee-be61-5fb918c853b4",
   "metadata": {},
   "source": [
    "This is how our directory structure looks now, it includes a new folder with all bakta results."
   ]
  },
  {
   "cell_type": "code",
   "execution_count": null,
   "id": "46cf61b4",
   "metadata": {
    "tags": [],
    "vscode": {
     "languageId": "shellscript"
    }
   },
   "outputs": [],
   "source": [
    "tree -dL 2 $HOME/tutorials"
   ]
  },
  {
   "cell_type": "markdown",
   "id": "78971d04",
   "metadata": {},
   "source": [
    "The output of **Bakta** annotation can be found in `tutorials/results/annotation` and they contain several files. \n",
    "\n",
    "- Circular plots `[.svg, .png]` can be visualized directly on Jupyter by clicking them or downloaded to your local computer for visualization.\n",
    "- Annotation results in this dataset are not ideal as we are working with draft genomes instead of complete chromosome assemblies or scaffolds. \n",
    "- More refined assemblies require long reads to polish the contigs and eliminate gaps.\n",
    "\n",
    "Take a look at this paper for more information about assembly approaches: https://doi.org/10.1093/bib/bbw096. "
   ]
  },
  {
   "cell_type": "markdown",
   "id": "980567bf",
   "metadata": {},
   "source": [
    "# Phylogenetic analysis\n",
    "\n",
    "## Core genome SNV\n",
    "\n",
    "To produce a phylogenetic tree we must compare the genomes using some kind of metric. Here, we will use **Snippy** to identify single nucleotide variants (SNV) in our genomes (https://github.com/tseemann/snippy). \n",
    "\n",
    "**Gubbins** is a tool that removes genes or features that were obtained through horizontal gene transfer and that may obscure the interpretation of the phylogenetic tree (https://github.com/nickjcroucher/gubbins). We use it to remove these genes from our comparison. "
   ]
  },
  {
   "cell_type": "code",
   "execution_count": null,
   "id": "e53365b4",
   "metadata": {
    "tags": [],
    "vscode": {
     "languageId": "shellscript"
    }
   },
   "outputs": [],
   "source": [
    "# define environment variables\n",
    "SNIPPY_IMG=\"/mnt/cidgoh-object-storage/images/snippy_4.6.0.sif\"\n",
    "GUBBINS_IMG=\"/mnt/cidgoh-object-storage/images/gubbins-3.2.1.img\"\n",
    "REF_GENOME=\"/mnt/cidgoh-object-storage/seagull/jupyter-mdprieto/reference_data/GCF_000006765.1_ASM676v1_genomic.fna\""
   ]
  },
  {
   "cell_type": "markdown",
   "id": "dafef90b",
   "metadata": {},
   "source": [
    "**Snippy** is a relatively fast tool, so we can analyze all the genomes we have available without too much wait. We apply the tool to every available draft genome. \n",
    "\n",
    "- The recommended use for the tool is actually on raw reads. \n",
    "\n",
    "To avoid typing the same command for every draft genome, we use a [**_for loop_**](https://ryanstutorials.net/bash-scripting-tutorial/bash-loops.php) to apply the same command to every contig file. "
   ]
  },
  {
   "cell_type": "code",
   "execution_count": null,
   "id": "90d430aa",
   "metadata": {
    "scrolled": true,
    "tags": [],
    "vscode": {
     "languageId": "shellscript"
    }
   },
   "outputs": [],
   "source": [
    "# runs for aprox 10 min\n",
    "for CONTIG in $(ls $HOME/tutorials/results/contigs/*contigs.fa)\n",
    "do\n",
    "    \n",
    "    # define isolate name\n",
    "    SAMPLE_PREFIX=$(basename \"$CONTIG\" '_contigs.fa')\n",
    "    echo \"Processing $SAMPLE_PREFIX\"\n",
    "\n",
    "    # run snippy for each isolate\n",
    "    singularity exec -B /mnt,/etc $SNIPPY_IMG snippy \\\n",
    "    --cpus 8 \\\n",
    "    --force \\\n",
    "    --cleanup \\\n",
    "    --quiet \\\n",
    "    --outdir $HOME/tutorials/results/snippy/$SAMPLE_PREFIX  `# save in a subdirectory named after sample ID` \\\n",
    "    --ctgs \"$CONTIG\" \\\n",
    "    --ref $REF_GENOME  \n",
    "\n",
    "done"
   ]
  },
  {
   "cell_type": "markdown",
   "id": "d10ecbf5",
   "metadata": {},
   "source": [
    "Once we have the data from the previous command, we perform a few additional steps to clean our results and have them ready for phylogenetic analysis. \n",
    "\n",
    "1. We run **snippy-core** to summarize the **SNVs** that are present only in genes contained in all isolates. This set can be considered the core-genome or the genomic features common to a group of isolates.\n",
    "    - We also run `snippy-clean_full_aln` in the resulting file to clean the text file"
   ]
  },
  {
   "cell_type": "code",
   "execution_count": null,
   "id": "41550df9-f145-41e6-a8ce-b91ffc6bd5af",
   "metadata": {
    "tags": []
   },
   "outputs": [],
   "source": [
    "cd $HOME/tutorials/results/snippy/\n",
    "\n",
    "singularity exec -B /mnt,/etc \"$SNIPPY_IMG\" snippy-core \\\n",
    "    --ref $REF_GENOME \\\n",
    "    $HOME/tutorials/results/snippy/ERR*\n",
    "    \n",
    "singularity exec -B /mnt,/etc $SNIPPY_IMG snippy-clean_full_aln \\\n",
    "    core.full.aln > clean.full.aln\n"
   ]
  },
  {
   "cell_type": "markdown",
   "id": "ed897a70-23bc-4147-8d7a-f27365481847",
   "metadata": {},
   "source": [
    "2. Then, **Gubbins** eliminates the features that are transmitted through horizontal gene transfer. \n",
    "\n",
    "3. Once we have the cleaned alignment, we use **snp-sites** to extract the sites in the alignment with a **SNV**."
   ]
  },
  {
   "cell_type": "code",
   "execution_count": null,
   "id": "94d37a32",
   "metadata": {
    "tags": [],
    "vscode": {
     "languageId": "shellscript"
    }
   },
   "outputs": [],
   "source": [
    "# move into the snippy output folder\n",
    "cd $HOME/tutorials/results/snippy\n",
    "\n",
    "# gubbins remove horizontal gene transfer \n",
    "singularity exec -B /mnt,/etc $GUBBINS_IMG run_gubbins.py \\\n",
    "    -p gubbins \\\n",
    "    clean.full.aln\n",
    "\n",
    "# SNP-sites\n",
    "singularity exec -B /mnt,/etc $SNIPPY_IMG snp-sites \\\n",
    "    -c gubbins.filtered_polymorphic_sites.fasta > clean.core.aln"
   ]
  },
  {
   "cell_type": "markdown",
   "id": "82a4cb75",
   "metadata": {},
   "source": [
    "## Phylogenetic tree\n",
    "\n",
    "Once we have conducted all of the above steps. We have a file that contains the **SNVs** present in genes common to all isolates (core-genes) and that were not obtained by horizontal gene transfer. \n",
    "\n",
    "This file can be used to create a phylogenetic tree. To make it quick, we are using the tool **FastTree** which was already prepared in our software folder. \n"
   ]
  },
  {
   "cell_type": "code",
   "execution_count": null,
   "id": "e6949ee7",
   "metadata": {
    "tags": [
     "hide_output"
    ],
    "vscode": {
     "languageId": "shellscript"
    }
   },
   "outputs": [],
   "source": [
    "/mnt/cidgoh-object-storage/seagull/jupyter-mdprieto/FastTree \\\n",
    "    -gamma                  `# employ a gamma model` \\\n",
    "    -gtr                    `# use generalized time reversible model` \\\n",
    "    -nt                     `# alignment is nucleotide based` \\\n",
    "    -quiet                  `# reduce printed output` \\\n",
    "    clean.core.aln > clean.core.tree"
   ]
  },
  {
   "cell_type": "markdown",
   "id": "866f3030",
   "metadata": {},
   "source": [
    "Finally, we can visualize the tree we just produce by pasting the contents of the file `clean.core.tree` in a visualizer tool such as [phyl.io](https://phylo.io/), or [iTOL](https://itol.embl.de/upload.cgi).\n",
    "\n",
    "The data we used may not be the best representation of differences in a phylogenetic tree as it comes from a single center outbreak and the samples are highly similar among them."
   ]
  }
 ],
 "metadata": {
  "kernelspec": {
   "display_name": "Bash",
   "language": "bash",
   "name": "bash"
  },
  "language_info": {
   "codemirror_mode": "shell",
   "file_extension": ".sh",
   "mimetype": "text/x-sh",
   "name": "bash"
  }
 },
 "nbformat": 4,
 "nbformat_minor": 5
}
